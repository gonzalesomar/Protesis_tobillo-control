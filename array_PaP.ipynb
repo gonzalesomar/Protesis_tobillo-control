{
 "cells": [
  {
   "cell_type": "markdown",
   "metadata": {},
   "source": [
    "# Automatizacion de array para PaP"
   ]
  },
  {
   "cell_type": "code",
   "execution_count": 7,
   "metadata": {},
   "outputs": [],
   "source": [
    "import pandas as pd\n",
    "import numpy as np\n",
    "\n",
    "\n",
    "# Specify the file path and the sheet name\n",
    "file_path = \"tobillovicky3km.xlsx\"\n",
    "\n",
    "# Read the Excel file and extract the desired column\n",
    "df = pd.read_excel(file_path, usecols=[0,9])  # Assuming the first column (column A)\n",
    "df = df[(df['Time'] >= 50.3) & (df['Time'] < 51.51)]\n",
    "\n",
    "# df = df[5703:]\n",
    "\n",
    "# Extract the column values as a NumPy array\n",
    "column_array = df.iloc[:, 1].values"
   ]
  },
  {
   "cell_type": "code",
   "execution_count": 11,
   "metadata": {},
   "outputs": [
    {
     "name": "stdout",
     "output_type": "stream",
     "text": [
      "double variaciones[] = {12.95191, -0.64786, -1.84483, -3.19855, -4.59629, -5.90136, -6.97493, -7.69993, -8.00232, -7.86338, -7.32092, -6.45861, -5.38688, -4.22225, -3.07104, -2.01965, -1.13052, -0.44286, 0.02695, 0.28527, 0.36066, 0.30221, 0.17169, 0.03479, -0.05128, -0.04730, 0.06265, 0.27095, 0.55224, 0.87231, 1.19635, 1.49663, 1.75519, 1.96439, 2.12357, 2.23637, 2.30754, 2.34290, 2.34870, 2.33165, 2.29992, 2.26183, 2.22477, 2.19327, 2.16837, 2.14586, 2.11834, 2.07559, 2.00760, 1.90595, 1.76667, 1.59169, 1.38941, 1.17623, 0.97555, 0.81819, 0.74109, 0.78561, 0.99386, 1.40355, 2.04060, 2.91121, 3.99477, 5.23925, 6.56115, 7.85099, 8.98355, 9.83391, 10.29428, 10.29110, 9.79685, 8.83551, 7.47839, 5.83554, 4.03953, 2.23034, 0.53973, -0.92370, -2.08617, -2.91857, -3.43761, -3.70298, -3.80497, -3.84931, -3.93800, -4.15403, -4.54550, -5.11934, -5.83872, -6.62837, -7.38777, -8.00539, -8.37719, -8.42233, -8.09620, -7.39739, -6.36919, -5.09408, -3.68245, -2.25706, -0.93541, 0.18738, 1.05161, 1.63887, 1.97144, 2.10298, 2.10137, 2.03089, 1.93459, 1.82392, 1.67705, 1.44711, 1.07694, 0.51743, -0.25529, -1.22699, -2.33960, -3.49391, -4.56171, -5.40566, -5.90319};\n"
     ]
    }
   ],
   "source": [
    "# Create a Python array\n",
    "python_array = np.array(column_array)\n",
    "radianes = python_array*11.37\n",
    "tamano = len(radianes)\n",
    "variaciones = []\n",
    "variaciones.append(radianes[0])\n",
    "for i in range(1,tamano):\n",
    "  x = radianes[i-1]\n",
    "  y = radianes[i]\n",
    "  variaciones.append(y-x)\n",
    "# Generate the C array declaration\n",
    "c_array_declaration = \"double variaciones[] = {\" + \", \".join(f\"{x:.5f}\" for x in variaciones) + \"};\"\n",
    "\n",
    "# Print the C array declaration\n",
    "print(c_array_declaration)"
   ]
  }
 ],
 "metadata": {
  "kernelspec": {
   "display_name": "Python 3",
   "language": "python",
   "name": "python3"
  },
  "language_info": {
   "codemirror_mode": {
    "name": "ipython",
    "version": 3
   },
   "file_extension": ".py",
   "mimetype": "text/x-python",
   "name": "python",
   "nbconvert_exporter": "python",
   "pygments_lexer": "ipython3",
   "version": "3.10.12"
  }
 },
 "nbformat": 4,
 "nbformat_minor": 2
}
